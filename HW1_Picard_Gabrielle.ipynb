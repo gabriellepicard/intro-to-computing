{
 "cells": [
  {
   "cell_type": "code",
   "execution_count": 8,
   "metadata": {},
   "outputs": [
    {
     "name": "stdout",
     "output_type": "stream",
     "text": [
      "['purple', 'pink', 'blue', 'orange']\n"
     ]
    }
   ],
   "source": [
    "# Generate list of favorite colors\n",
    "colors = ['purple', 'pink', 'blue', 'orange']\n",
    "#print(type(list))\n",
    "print(colors)"
   ]
  },
  {
   "cell_type": "code",
   "execution_count": 9,
   "metadata": {},
   "outputs": [
    {
     "name": "stdout",
     "output_type": "stream",
     "text": [
      "[30, 33, 36, 39, 42, 45, 48, 51, 54, 57, 60]\n"
     ]
    }
   ],
   "source": [
    "# Generate list of numbers 30-60 with interval 3\n",
    "num = list(range(30, 61, 3))\n",
    "print(num)"
   ]
  },
  {
   "cell_type": "code",
   "execution_count": 10,
   "metadata": {},
   "outputs": [
    {
     "name": "stdout",
     "output_type": "stream",
     "text": [
      "{'Sunny': 'play', 'Rainy': 'watching TV', 'Cloudy': 'walk'}\n"
     ]
    }
   ],
   "source": [
    "# Create dictionary\n",
    "dictionary = {\"Sunny\": \"play\", \"Rainy\": \"watching TV\", \"Cloudy\": \"walk\"}\n",
    "#print(type(dictionary))\n",
    "print(dictionary)"
   ]
  },
  {
   "cell_type": "code",
   "execution_count": 11,
   "metadata": {},
   "outputs": [
    {
     "name": "stdout",
     "output_type": "stream",
     "text": [
      "{'Sunny': 'play', 'Rainy': 'watching TV', 'Cloudy': 'walk', 'Snowy': 'ski'}\n"
     ]
    }
   ],
   "source": [
    "# Add \"snowy\", \"ski\"\n",
    "dictionary.update({\"Snowy\": \"ski\"})\n",
    "print(dictionary)"
   ]
  },
  {
   "cell_type": "code",
   "execution_count": 12,
   "metadata": {},
   "outputs": [
    {
     "name": "stdout",
     "output_type": "stream",
     "text": [
      "A\n"
     ]
    }
   ],
   "source": [
    "# Help grade students' scores\n",
    "grade = 90\n",
    "if grade >= 90:\n",
    "    print('A')\n",
    "elif grade >= 80:\n",
    "    print('B')\n",
    "elif grade >= 70:\n",
    "    print('C')\n",
    "else:\n",
    "    print('F')"
   ]
  },
  {
   "cell_type": "code",
   "execution_count": null,
   "metadata": {},
   "outputs": [],
   "source": []
  }
 ],
 "metadata": {
  "kernelspec": {
   "display_name": "Python 3",
   "language": "python",
   "name": "python3"
  },
  "language_info": {
   "codemirror_mode": {
    "name": "ipython",
    "version": 3
   },
   "file_extension": ".py",
   "mimetype": "text/x-python",
   "name": "python",
   "nbconvert_exporter": "python",
   "pygments_lexer": "ipython3",
   "version": "3.8.3"
  }
 },
 "nbformat": 4,
 "nbformat_minor": 4
}
