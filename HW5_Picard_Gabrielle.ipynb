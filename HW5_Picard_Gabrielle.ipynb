{
 "cells": [
  {
   "cell_type": "code",
   "execution_count": 1,
   "metadata": {},
   "outputs": [
    {
     "name": "stdout",
     "output_type": "stream",
     "text": [
      "5:30\n"
     ]
    }
   ],
   "source": [
    "# Question 1\n",
    "class Clock():\n",
    "    def __init__(self,time):\n",
    "        self.time = time\n",
    "    def print_time(self):\n",
    "        time = '6:30'\n",
    "        print(self.time)\n",
    "\n",
    "clock = Clock('5:30')\n",
    "clock.print_time()"
   ]
  },
  {
   "cell_type": "code",
   "execution_count": 2,
   "metadata": {},
   "outputs": [
    {
     "name": "stdout",
     "output_type": "stream",
     "text": [
      "10:30\n"
     ]
    }
   ],
   "source": [
    "# Question 2\n",
    "class Clock():\n",
    "    def __init__(self,time):\n",
    "        self.time = time\n",
    "    def print_time(self,time):\n",
    "        print(time)\n",
    "        \n",
    "clock = Clock('5:30')\n",
    "clock.print_time('10:30')"
   ]
  },
  {
   "cell_type": "code",
   "execution_count": 3,
   "metadata": {},
   "outputs": [
    {
     "name": "stdout",
     "output_type": "stream",
     "text": [
      "5:30\n",
      "10:30\n"
     ]
    }
   ],
   "source": [
    "# Question 3\n",
    "class Clock():\n",
    "    def __init__(self,time):\n",
    "        self.time = time\n",
    "    def print_time(self):\n",
    "        print(self.time)\n",
    "\n",
    "class Clock1(Clock):\n",
    "    pass\n",
    "\n",
    "boston_clock = Clock('5:30')\n",
    "paris_clock = Clock1('10:30')\n",
    "\n",
    "boston_clock.print_time()\n",
    "paris_clock.print_time()"
   ]
  },
  {
   "cell_type": "code",
   "execution_count": 4,
   "metadata": {},
   "outputs": [],
   "source": [
    "# Question 4\n",
    "\n",
    "# Create class\n",
    "class Queue(object):\n",
    "    # Create empty list\n",
    "    def __init__(self):\n",
    "        self.element = []\n",
    "        \n",
    "    # Print \n",
    "    def print(self):\n",
    "        print(self.element)\n",
    "        \n",
    "    # Insert elements to end of list\n",
    "    def insert(self,value):\n",
    "        self.element.append(value)\n",
    "        \n",
    "    # Remove first element of list\n",
    "    def remove(self):\n",
    "        try:\n",
    "            del self.element[0]\n",
    "        except:\n",
    "            print('queue is empty now.')"
   ]
  },
  {
   "cell_type": "code",
   "execution_count": 5,
   "metadata": {},
   "outputs": [
    {
     "name": "stdout",
     "output_type": "stream",
     "text": [
      "[5, 6]\n",
      "[6, 7]\n",
      "queue is empty now.\n"
     ]
    }
   ],
   "source": [
    "# Test implementation\n",
    "queue = Queue()\n",
    "queue.insert(5)\n",
    "queue.insert(6)\n",
    "queue.print()\n",
    "#[5, 6]\n",
    "queue.insert(7)\n",
    "queue.remove()\n",
    "queue.print()\n",
    "# [6, 7]\n",
    "queue.remove()\n",
    "queue.remove()\n",
    "queue.remove()"
   ]
  }
 ],
 "metadata": {
  "kernelspec": {
   "display_name": "Python 3",
   "language": "python",
   "name": "python3"
  },
  "language_info": {
   "codemirror_mode": {
    "name": "ipython",
    "version": 3
   },
   "file_extension": ".py",
   "mimetype": "text/x-python",
   "name": "python",
   "nbconvert_exporter": "python",
   "pygments_lexer": "ipython3",
   "version": "3.8.3"
  }
 },
 "nbformat": 4,
 "nbformat_minor": 4
}
